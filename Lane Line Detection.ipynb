{
 "cells": [
  {
   "cell_type": "markdown",
   "metadata": {},
   "source": [
    "#### Loading Libraries "
   ]
  },
  {
   "cell_type": "code",
   "execution_count": 1,
   "metadata": {},
   "outputs": [],
   "source": [
    "import numpy as np\n",
    "import cv2\n",
    "import matplotlib.pyplot as plt\n",
    "from moviepy.editor import VideoFileClip\n",
    "from queue import Queue"
   ]
  },
  {
   "cell_type": "code",
   "execution_count": 2,
   "metadata": {},
   "outputs": [],
   "source": [
    "%matplotlib inline"
   ]
  },
  {
   "cell_type": "markdown",
   "metadata": {},
   "source": [
    "#### Loading Chessboard Images for Calibration"
   ]
  },
  {
   "cell_type": "code",
   "execution_count": 3,
   "metadata": {},
   "outputs": [],
   "source": [
    "distorted = []\n",
    "\n",
    "for i in range(20):\n",
    "    image= cv2.imread(\"./camera_cal/calibration\"+str(i+1)+\".jpg\")\n",
    "    distorted.append(image)"
   ]
  },
  {
   "cell_type": "markdown",
   "metadata": {},
   "source": [
    "#### Camera Calibration"
   ]
  },
  {
   "cell_type": "code",
   "execution_count": 5,
   "metadata": {},
   "outputs": [],
   "source": [
    "row, nx, ny= 0, 9, 6\n",
    "\n",
    "objpoints=[]\n",
    "imgpoints=[]\n",
    "\n",
    "objp=np.zeros((nx*ny,3),np.float32)\n",
    "objp[:,:2]= np.mgrid[0:nx,0:ny].T.reshape(-1,2)\n",
    "\n",
    "for image in distorted:\n",
    "    \n",
    "    gray= cv2.cvtColor(image, cv2.COLOR_RGB2GRAY)\n",
    "    ret, corners= cv2.findChessboardCorners(gray, (nx, ny), None)\n",
    "    \n",
    "    if(ret):\n",
    "        objpoints.append(objp)\n",
    "        imgpoints.append(corners)\n",
    "        if row>3:\n",
    "            continue\n",
    "        cv2.drawChessboardCorners(image,(nx,ny), corners, ret)\n",
    "        row += 1"
   ]
  },
  {
   "cell_type": "code",
   "execution_count": 6,
   "metadata": {},
   "outputs": [],
   "source": [
    "image_test= cv2.cvtColor(cv2.imread(\"./camera_cal/calibration1.jpg\"),cv2.COLOR_BGR2RGB)\n",
    "\n",
    "y=image_test.shape[0]\n",
    "x=image_test.shape[1]\n",
    "\n",
    "_ ,mtx ,dist ,_ ,_ = cv2.calibrateCamera(objpoints, imgpoints,(y,x),None,None)"
   ]
  },
  {
   "cell_type": "markdown",
   "metadata": {},
   "source": [
    "#### Undistortion"
   ]
  },
  {
   "cell_type": "code",
   "execution_count": 7,
   "metadata": {},
   "outputs": [],
   "source": [
    "def undistort(img):\n",
    "    return cv2.undistort(img,mtx,dist, None, mtx)"
   ]
  },
  {
   "cell_type": "markdown",
   "metadata": {},
   "source": [
    "#### Perspective transform"
   ]
  },
  {
   "cell_type": "code",
   "execution_count": 8,
   "metadata": {},
   "outputs": [],
   "source": [
    "offset=200\n",
    "image_test1= cv2.imread(\"./test_images/straight_lines1.jpg\")\n",
    "height, width= image_test1.shape[0], image_test1.shape[1]\n",
    "src=np.float32([(593,450),(700,450),(1200,700),(200,700)])\n",
    "dst=np.float32([(offset,0),(width-offset,0),(width-offset,height),(offset,height)])\n",
    "\n",
    "def warp_image(img):\n",
    "    img_size = (img.shape[1], img.shape[0])\n",
    "    M= cv2.getPerspectiveTransform(src, dst) \n",
    "    inv= cv2.getPerspectiveTransform(dst, src)\n",
    "    warped= cv2.warpPerspective(img, M, img_size, flags=cv2.INTER_LINEAR)\n",
    "    return warped,inv\n",
    "\n",
    "def reverse_warping(img,M):\n",
    "    img_size = (img.shape[1], img.shape[0])\n",
    "    unwarped= cv2.warpPerspective(img, M, img_size, flags=cv2.INTER_LINEAR)\n",
    "    return unwarped\n",
    "\n",
    "def ConvertBGRtoRGB(img):\n",
    "    return cv2.cvtColor(img,cv2.COLOR_BGR2RGB)"
   ]
  },
  {
   "cell_type": "markdown",
   "metadata": {},
   "source": [
    "#### Experimenting on various colorSpaces"
   ]
  },
  {
   "cell_type": "markdown",
   "metadata": {},
   "source": [
    "Out of the all the channels visualized above, R channel from RGB, S channel from HSV or HLS, Y channel from YCrCb and L channel from Lab colorspace look promising and are able to identify the lane lines easily, which are too bright to identify in the original image itself."
   ]
  },
  {
   "cell_type": "markdown",
   "metadata": {},
   "source": [
    "#### Experimenting with selected color channels (Y,Cr,L and S)"
   ]
  },
  {
   "cell_type": "code",
   "execution_count": 9,
   "metadata": {},
   "outputs": [],
   "source": [
    "def channelwise_thresholding(image,thresh):\n",
    "    \n",
    "    image = image*(255/np.max(image))\n",
    "\n",
    "    binary_output = np.zeros_like(image)\n",
    "    binary_output[(image > thresh[0]) & (image <= thresh[1])] = 1\n",
    "    \n",
    "    return binary_output"
   ]
  },
  {
   "cell_type": "code",
   "execution_count": 10,
   "metadata": {},
   "outputs": [],
   "source": [
    "def Custom_channel_converter(img):\n",
    "    \n",
    "    img1=cv2.cvtColor(img,cv2.COLOR_RGB2YCrCb)[:,:,0] # Y channel\n",
    "    img2=cv2.cvtColor(img,cv2.COLOR_RGB2YCrCb)[:,:,1] #Cr channel\n",
    "    img3=cv2.cvtColor(img,cv2.COLOR_RGB2HLS)[:,:,1] #L channel\n",
    "    img4=cv2.cvtColor(img,cv2.COLOR_RGB2HLS)[:,:,2] #S channel\n",
    "    return img1, img2, img3, img4"
   ]
  },
  {
   "cell_type": "markdown",
   "metadata": {},
   "source": [
    "#### Sobel x and y"
   ]
  },
  {
   "cell_type": "code",
   "execution_count": 11,
   "metadata": {},
   "outputs": [],
   "source": [
    "def sobel_image(img, orient='x', thresh_min=0, thresh_max=255, convert=True):\n",
    "    \n",
    "    gray= img\n",
    "    if(convert):\n",
    "        gray= cv2.cvtColor(img, cv2.COLOR_RGB2GRAY)\n",
    "    \n",
    "    sobel=None\n",
    "    if(orient=='x'):\n",
    "        sobel= cv2.Sobel(gray, cv2.CV_64F, 1,0)\n",
    "    else:\n",
    "        sobel= cv2.Sobel(gray, cv2.CV_64F, 0,1)\n",
    "    \n",
    "    sobel_abs= np.absolute(sobel)\n",
    "    sobel_8bit= np.uint8(255* sobel_abs/np.max(sobel_abs))\n",
    "    binary_output= np.zeros_like(sobel_8bit) \n",
    "    binary_output[(sobel_8bit>=thresh_min) & (thresh_max>=sobel_8bit)]=1\n",
    "    \n",
    "    return binary_output"
   ]
  },
  {
   "cell_type": "markdown",
   "metadata": {},
   "source": [
    "#### Sobel magnitude"
   ]
  },
  {
   "cell_type": "code",
   "execution_count": 12,
   "metadata": {},
   "outputs": [],
   "source": [
    "def sobel_mag(img, thresh, convert=True):\n",
    "    gray= img\n",
    "    if(convert):\n",
    "        gray= cv2.cvtColor(img, cv2.COLOR_RGB2GRAY)\n",
    "    \n",
    "    sobelx= cv2.Sobel(gray, cv2.CV_64F, 1,0)\n",
    "    sobely= cv2.Sobel(gray, cv2.CV_64F, 0,1)\n",
    "    \n",
    "    mag= (sobelx**2+ sobely**2)**(0.5)\n",
    "    \n",
    "    sobel_mag_8bit= np.uint8(255* mag/np.max(mag))\n",
    "    binary_output= np.zeros_like(sobel_mag_8bit) \n",
    "    binary_output[(sobel_mag_8bit>=thresh[0]) & (thresh[1]>=sobel_mag_8bit)]=1\n",
    "    \n",
    "    return binary_output"
   ]
  },
  {
   "cell_type": "markdown",
   "metadata": {},
   "source": [
    "#### Sobel Gradient"
   ]
  },
  {
   "cell_type": "code",
   "execution_count": 13,
   "metadata": {},
   "outputs": [],
   "source": [
    "def sobel_gradient_image(img, thresh=(0, np.pi/2), convert=True):\n",
    "    gray= img\n",
    "    if(convert):\n",
    "        gray= cv2.cvtColor(img, cv2.COLOR_RGB2GRAY)\n",
    "    \n",
    "    sobelx= cv2.Sobel(gray, cv2.CV_64F, 1,0, ksize=15)\n",
    "    sobely= cv2.Sobel(gray, cv2.CV_64F, 0,1, ksize=15)\n",
    "    \n",
    "    abs_sobelx= np.absolute(sobelx)\n",
    "    abs_sobely= np.absolute(sobely)\n",
    "    \n",
    "    grad= np.arctan2(abs_sobely, abs_sobelx)\n",
    "    \n",
    "    binary_output=np.zeros_like(grad)\n",
    "    binary_output[(grad>thresh[0])&(grad<thresh[1])]=1\n",
    "    return binary_output"
   ]
  },
  {
   "cell_type": "markdown",
   "metadata": {},
   "source": [
    "#### Fitting line on detected lanes and plotting windows "
   ]
  },
  {
   "cell_type": "code",
   "execution_count": 14,
   "metadata": {},
   "outputs": [],
   "source": [
    "fit_prev_left=[]\n",
    "fit_prev_right=[]\n",
    "fit_sum_left=0\n",
    "fit_sum_right=0\n",
    "def Plot_line(binary_warped, smoothen=False,prevFrameCount=6 ): #used Udacity's code to plot the lines and windows over lanes \n",
    "    histogram = np.sum(binary_warped[binary_warped.shape[0]//2:,:], axis=0)\n",
    "    # Create an output image to draw on and  visualize the result\n",
    "    out_img = np.dstack((binary_warped, binary_warped, binary_warped))*255\n",
    "    # Find the peak of the left and right halves of the histogram\n",
    "    # These will be the starting point for the left and right lines\n",
    "    midpoint = np.int(histogram.shape[0]/2)\n",
    "    leftx_base = np.argmax(histogram[:midpoint])\n",
    "    rightx_base = np.argmax(histogram[midpoint:]) + midpoint\n",
    "    lane_width= abs(rightx_base-leftx_base)\n",
    "    # Choose the number of sliding windows\n",
    "    nwindows = 9\n",
    "    # Set height of windows\n",
    "    window_height = np.int(binary_warped.shape[0]/nwindows)\n",
    "    # Identify the x and y positions of all nonzero pixels in the image\n",
    "    nonzero = binary_warped.nonzero()\n",
    "    nonzeroy = np.array(nonzero[0])\n",
    "    nonzerox = np.array(nonzero[1])\n",
    "    # Current positions to be updated for each window\n",
    "    leftx_current = leftx_base\n",
    "    rightx_current = rightx_base\n",
    "    # Set the width of the windows +/- margin\n",
    "    margin = 100\n",
    "    # Set minimum number of pixels found to recenter window\n",
    "    minpix = 50\n",
    "    # Create empty lists to receive left and right lane pixel indices\n",
    "    left_lane_inds = []\n",
    "    right_lane_inds = []\n",
    "\n",
    "    # Step through the windows one by one\n",
    "    for window in range(nwindows):\n",
    "        # Identify window boundaries in x and y (and right and left)\n",
    "        win_y_low = binary_warped.shape[0] - (window+1)*window_height\n",
    "        win_y_high = binary_warped.shape[0] - window*window_height\n",
    "        win_xleft_low = leftx_current - margin\n",
    "        win_xleft_high = leftx_current + margin\n",
    "        win_xright_low = rightx_current - margin\n",
    "        win_xright_high = rightx_current + margin\n",
    "        # Draw the windows on the visualization image\n",
    "        cv2.rectangle(out_img,(win_xleft_low,win_y_low),(win_xleft_high,win_y_high),\n",
    "        (0,255,0), 2) \n",
    "        cv2.rectangle(out_img,(win_xright_low,win_y_low),(win_xright_high,win_y_high),\n",
    "        (0,255,0), 2) \n",
    "        # Identify the nonzero pixels in x and y within the window\n",
    "        good_left_inds = ((nonzeroy >= win_y_low) & (nonzeroy < win_y_high) & \n",
    "        (nonzerox >= win_xleft_low) &  (nonzerox < win_xleft_high)).nonzero()[0]\n",
    "        good_right_inds = ((nonzeroy >= win_y_low) & (nonzeroy < win_y_high) & \n",
    "        (nonzerox >= win_xright_low) &  (nonzerox < win_xright_high)).nonzero()[0]\n",
    "        # Append these indices to the lists\n",
    "        left_lane_inds.append(good_left_inds)\n",
    "        right_lane_inds.append(good_right_inds)\n",
    "        # If you found > minpix pixels, recenter next window on their mean position\n",
    "        if len(good_left_inds) > minpix:\n",
    "            leftx_current = np.int(np.mean(nonzerox[good_left_inds]))\n",
    "        if len(good_right_inds) > minpix:        \n",
    "            rightx_current = np.int(np.mean(nonzerox[good_right_inds]))\n",
    "\n",
    "    # Concatenate the arrays of indices\n",
    "    left_lane_inds = np.concatenate(left_lane_inds)\n",
    "    right_lane_inds = np.concatenate(right_lane_inds)\n",
    "\n",
    "    # Extract left and right line pixel positions\n",
    "    leftx = nonzerox[left_lane_inds]\n",
    "    lefty = nonzeroy[left_lane_inds] \n",
    "    rightx = nonzerox[right_lane_inds]\n",
    "    righty = nonzeroy[right_lane_inds] \n",
    "\n",
    "    # Fit a second order polynomial to each\n",
    "    left_fit = np.polyfit(lefty, leftx, 2)\n",
    "    right_fit = np.polyfit(righty, rightx, 2)\n",
    "    \n",
    "    if(smoothen):\n",
    "        global fit_prev_left\n",
    "        global fit_prev_right\n",
    "        global fit_sum_left\n",
    "        global fit_sum_right\n",
    "        if(len(fit_prev_left)>prevFrameCount):\n",
    "            fit_sum_left-= fit_prev_left.pop(0)\n",
    "            fit_sum_right-= fit_prev_right.pop(0)\n",
    "\n",
    "        fit_prev_left.append(left_fit)\n",
    "        fit_prev_right.append(right_fit)\n",
    "        fit_sum_left+=left_fit\n",
    "        fit_sum_right+= right_fit\n",
    "\n",
    "        no_of_fit_values=len(fit_prev_left) \n",
    "        left_fit= fit_sum_left/no_of_fit_values\n",
    "        right_fit= fit_sum_right/no_of_fit_values\n",
    "    \n",
    "    \n",
    "    ploty = np.linspace(0, binary_warped.shape[0]-1, binary_warped.shape[0] )\n",
    "    left_fitx = left_fit[0]*ploty**2 + left_fit[1]*ploty + left_fit[2]\n",
    "    right_fitx = right_fit[0]*ploty**2 + right_fit[1]*ploty + right_fit[2]\n",
    "\n",
    "    out_img[nonzeroy[left_lane_inds], nonzerox[left_lane_inds]] = [255, 0, 0]\n",
    "    out_img[nonzeroy[right_lane_inds], nonzerox[right_lane_inds]] = [0, 0, 255]\n",
    "    \n",
    "    nonzero = binary_warped.nonzero()\n",
    "    nonzeroy = np.array(nonzero[0])\n",
    "    nonzerox = np.array(nonzero[1])\n",
    "\n",
    "    window_img = np.zeros_like(out_img)\n",
    "    # Generate a polygon to illustrate the search window area\n",
    "    # And recast the x and y points into usable format for cv2.fillPoly()\n",
    "    left_line_window1 = np.array([np.transpose(np.vstack([left_fitx-margin, ploty]))])\n",
    "    left_line_window2 = np.array([np.flipud(np.transpose(np.vstack([left_fitx+margin, \n",
    "                                  ploty])))])\n",
    "    left_line_pts = np.hstack((left_line_window1, left_line_window2))\n",
    "    right_line_window1 = np.array([np.transpose(np.vstack([right_fitx-margin, ploty]))])\n",
    "    right_line_window2 = np.array([np.flipud(np.transpose(np.vstack([right_fitx+margin, \n",
    "                                  ploty])))])\n",
    "    right_line_pts = np.hstack((right_line_window1, right_line_window2))\n",
    "\n",
    "    # Draw the lane onto the warped blank image\n",
    "    cv2.fillPoly(window_img, np.int_([left_line_pts]), (0,255, 0))\n",
    "    cv2.fillPoly(window_img, np.int_([right_line_pts]), (0,255, 0))\n",
    "    result = cv2.addWeighted(out_img, 1, window_img, 0.3, 0)\n",
    "\n",
    "    return out_img, result, left_fitx,right_fitx,ploty,left_fit, right_fit,left_lane_inds,right_lane_inds,lane_width\n",
    "\n",
    "          \n",
    "    "
   ]
  },
  {
   "cell_type": "markdown",
   "metadata": {},
   "source": [
    "#### Drawing the center green Lane"
   ]
  },
  {
   "cell_type": "code",
   "execution_count": 15,
   "metadata": {},
   "outputs": [],
   "source": [
    "def draw_lane(original_img, Combined_img, left_fitx, right_fitx, M):\n",
    "    new_img = np.copy(original_img)\n",
    "\n",
    "    warp_zero = np.zeros_like(Combined_img).astype(np.uint8)\n",
    "    color_warp = np.dstack((warp_zero, warp_zero, warp_zero))\n",
    "    \n",
    "    h,w = Combined_img.shape\n",
    "    ploty = np.linspace(0, h-1, num=h)\n",
    "\n",
    "    pts_left = np.array([np.transpose(np.vstack([left_fitx, ploty]))])\n",
    "    pts_right = np.array([np.flipud(np.transpose(np.vstack([right_fitx, ploty])))])\n",
    "    pts = np.hstack((pts_left, pts_right))\n",
    "\n",
    "    cv2.fillPoly(color_warp, np.int_([pts]), (0,255, 0))\n",
    "    cv2.polylines(color_warp, np.int32([pts_left]), isClosed=False, color=(255,0,0), thickness=15)\n",
    "    cv2.polylines(color_warp, np.int32([pts_right]), isClosed=False, color=(255,0,0), thickness=15)\n",
    "\n",
    "    return color_warp, new_img"
   ]
  },
  {
   "cell_type": "markdown",
   "metadata": {},
   "source": [
    "#### Caclulating the distance of car from center"
   ]
  },
  {
   "cell_type": "code",
   "execution_count": 16,
   "metadata": {},
   "outputs": [],
   "source": [
    "center_distances= Queue(maxsize=15)\n",
    "distanceSum=0\n",
    "def get_car_position(l_fit, r_fit,w,h):\n",
    "    xm_per_pix=3.7/700\n",
    "    center_dist=0\n",
    "    lane_center_position=0\n",
    "    if r_fit is not None and l_fit is not None:\n",
    "        car_position = w/2\n",
    "        l_fit_x_int = l_fit[0]*h**2 + l_fit[1]*h + l_fit[2]\n",
    "        r_fit_x_int = r_fit[0]*h**2 + r_fit[1]*h + r_fit[2]\n",
    "        lane_center_position = (r_fit_x_int + l_fit_x_int) /2\n",
    "        center_dist = (car_position - lane_center_position) * xm_per_pix\n",
    "    \n",
    "    global distanceSum           \n",
    "    if(center_distances.full()):\n",
    "        el=center_distances.get()\n",
    "        distanceSum-=el\n",
    "    \n",
    "    center_distances.put(center_dist)\n",
    "    distanceSum+=center_dist\n",
    "    \n",
    "    no_of_distance_values=center_distances.qsize() \n",
    "    center_dist= distanceSum/no_of_distance_values\n",
    "    return center_dist,lane_center_position"
   ]
  },
  {
   "cell_type": "markdown",
   "metadata": {},
   "source": [
    "#### Caclulating the direction of car from center"
   ]
  },
  {
   "cell_type": "code",
   "execution_count": 17,
   "metadata": {},
   "outputs": [],
   "source": [
    "def get_direction(center_dist):\n",
    "    direction = ''\n",
    "    if center_dist > 0:\n",
    "        direction = 'right'\n",
    "    elif center_dist < 0:\n",
    "        direction = 'left'\n",
    "    return direction"
   ]
  },
  {
   "cell_type": "markdown",
   "metadata": {},
   "source": [
    "#### Plotting details on the Image"
   ]
  },
  {
   "cell_type": "code",
   "execution_count": 18,
   "metadata": {},
   "outputs": [],
   "source": [
    "def Plot_details(laneImage,curv_rad,center_dist,width_lane,lane_center_position):\n",
    "    offest_top=0\n",
    "    copy= np.zeros_like(laneImage)\n",
    "    \n",
    "    h = laneImage.shape[0]\n",
    "    font = cv2.FONT_HERSHEY_COMPLEX_SMALL\n",
    "    text = 'Curve radius: ' + '{:04.2f}'.format(curv_rad) + 'm'\n",
    "    cv2.putText(laneImage, text, (40,70+offest_top), font, 1.5, (255,255,255), 2, cv2.LINE_AA)\n",
    "    cv2.putText(copy, text, (40,100+offest_top), font, 4.0, (255,255,255), 3, cv2.LINE_AA)\n",
    "    \n",
    "    abs_center_dist = abs(center_dist)\n",
    "    direction= get_direction(center_dist)\n",
    "    text = '{:04.3f}'.format(abs_center_dist) + 'm ' + direction + ' of center'\n",
    "#     cv2.putText(laneImage, 'steering '+direction, (40,110+offest_top), font, 1.5, (255,255,255), 2, cv2.LINE_AA)\n",
    "    cv2.putText(laneImage, '|', (640,710), font, 2.0, (255,255,255), 3, cv2.LINE_AA)\n",
    "    cv2.putText(laneImage, '|', (int(lane_center_position),680), font, 2.0, (255,0,0), 3, cv2.LINE_AA)\n",
    "    cv2.putText(laneImage, text, (40,120+offest_top), font, 1.5, (255,255,255), 2, cv2.LINE_AA)\n",
    "    \n",
    "    text = 'Lane Width: ' + '{:04.2f}'.format(width_lane) + 'm'\n",
    "    cv2.putText(laneImage, text, (40,170+offest_top), font, 1.5, (255,255,255), 2, cv2.LINE_AA)\n",
    "    cv2.putText(copy, text, (40,280+offest_top), font, 4.0, (255,255,255), 3, cv2.LINE_AA)\n",
    "    \n",
    "    return laneImage, copy"
   ]
  },
  {
   "cell_type": "markdown",
   "metadata": {},
   "source": [
    "#### Calculating Radius of curvature, position, direction and speed of car"
   ]
  },
  {
   "cell_type": "code",
   "execution_count": 19,
   "metadata": {},
   "outputs": [],
   "source": [
    "width_lane_avg=[]\n",
    "radius_values = Queue(maxsize=15)\n",
    "radius_sum=0\n",
    "\n",
    "def calc_radius_position(combined, l_fit, r_fit, l_lane_inds, r_lane_inds,lane_width):\n",
    "    \n",
    "    # Define conversions in x and y from pixels space to meters\n",
    "    ym_per_pix = 30/720 # meters per pixel in y dimension\n",
    "    xm_per_pix = 3.7/700 # meters per pixel in x dimension\n",
    "    left_curverad, right_curverad, center_dist, width_lane = (0, 0, 0, 0)\n",
    "    h = combined.shape[0]\n",
    "    w = combined.shape[1]\n",
    "    ploty = np.linspace(0, h-1, h)\n",
    "    y_eval = np.max(ploty)\n",
    "  \n",
    "    # Identify the x and y positions of all nonzero pixels in the image\n",
    "    nonzero = combined.nonzero()\n",
    "    nonzeroy = np.array(nonzero[0])\n",
    "    nonzerox = np.array(nonzero[1])\n",
    "    \n",
    "    # Extract left and right line pixel positions\n",
    "    leftx = nonzerox[l_lane_inds]\n",
    "    lefty = nonzeroy[l_lane_inds] \n",
    "    rightx = nonzerox[r_lane_inds]\n",
    "    righty = nonzeroy[r_lane_inds]\n",
    "    \n",
    "    if len(leftx) != 0 and len(rightx) != 0:\n",
    "        # Fit new polynomials to x,y in world space\n",
    "        left_fit_cr = np.polyfit(lefty*ym_per_pix, leftx*xm_per_pix, 2)\n",
    "        right_fit_cr = np.polyfit(righty*ym_per_pix, rightx*xm_per_pix, 2)\n",
    "        \n",
    "        #applying the formula for \n",
    "        left_curverad = ((1 + (2*left_fit_cr[0]*y_eval*ym_per_pix + left_fit_cr[1])**2)**1.5) / np.absolute(2*left_fit_cr[0])\n",
    "        right_curverad = ((1 + (2*right_fit_cr[0]*y_eval*ym_per_pix + right_fit_cr[1])**2)**1.5) / np.absolute(2*right_fit_cr[0])\n",
    "        \n",
    "        width_lane= lane_width*xm_per_pix\n",
    "        if(len(width_lane_avg) != 0):\n",
    "            avg_width=(sum(width_lane_avg)/len(width_lane_avg))\n",
    "            if abs(avg_width-width_lane)<0.5:\n",
    "                width_lane_avg.append(width_lane)\n",
    "            else:\n",
    "                width_lane=avg_width\n",
    "    \n",
    "    \n",
    "    # Averaging radius value over past 15 frames\n",
    "    global radius_sum           \n",
    "    if(radius_values.full()):\n",
    "        el=radius_values.get()\n",
    "        \n",
    "        radius_sum-=el\n",
    "    curve_radius= (left_curverad+right_curverad)/2\n",
    "    radius_values.put(curve_radius)\n",
    "    radius_sum+=curve_radius\n",
    "    \n",
    "    no_of_radius_values=radius_values.qsize() \n",
    "    curve_radius= radius_sum/no_of_radius_values\n",
    "    \n",
    "    center_dist,lane_center_position= get_car_position(l_fit,r_fit,w,h) \n",
    "    return curve_radius, center_dist,width_lane,lane_center_position"
   ]
  },
  {
   "cell_type": "markdown",
   "metadata": {},
   "source": [
    "#### Pipeline"
   ]
  },
  {
   "cell_type": "code",
   "execution_count": 20,
   "metadata": {},
   "outputs": [],
   "source": [
    "def Lane_pipeline(img, smoothen, prevFrameCount):\n",
    "    \n",
    "    undistorted_image = undistort(img)\n",
    "    warped_image,M = warp_image(undistorted_image)\n",
    "    image_S_channel = cv2.cvtColor(warped_image, cv2.COLOR_RGB2HLS)[:,:,2]\n",
    "    \n",
    "    imgY, imgCr, imgb, imgS= Custom_channel_converter(warped_image)\n",
    "    \n",
    "    Ybinary = channelwise_thresholding(imgY,(215,255))\n",
    "    Crbinary = channelwise_thresholding(imgCr,(215,255))\n",
    "    Lbinary = channelwise_thresholding(imgb,(215,255))\n",
    "    Sbinary = channelwise_thresholding(imgS,(200,255))\n",
    "    \n",
    "    combined = np.zeros_like(imgY)\n",
    "    \n",
    "    sobel_image1 = sobel_image(image_S_channel,'x', 15,60, False)\n",
    "    sobel_grad_image = sobel_gradient_image(image_S_channel,  (0.5,1.8), False)\n",
    "    \n",
    "    combined[(Crbinary==1)|(Ybinary==1)|((Lbinary==1)&(Sbinary==1))] = 1\n",
    "\n",
    "    out_img, out_img1, left_fitx, right_fitx, ploty, left_fit, right_fit, left_lane_inds, right_lane_inds, lane_width = Plot_line(combined,smoothen,prevFrameCount)\n",
    "    \n",
    "    curverad, center_dist, width_lane, lane_center_position = calc_radius_position(combined,\n",
    "                                                left_fit, \n",
    "                                                right_fit,\n",
    "                                                left_lane_inds,\n",
    "                                                right_lane_inds,lane_width)\n",
    "    \n",
    "    laneImage, new_img = draw_lane(img,\n",
    "                                   combined,\n",
    "                                   left_fitx,\n",
    "                                   right_fitx, M)\n",
    "    \n",
    "    unwarped_image = reverse_warping(laneImage,M)\n",
    "    laneImage = cv2.addWeighted(new_img, 1, unwarped_image, 0.5, 0)\n",
    "    \n",
    "    laneImage, copy = Plot_details(laneImage,\n",
    "                                   curverad,\n",
    "                                   center_dist,\n",
    "                                   width_lane,\n",
    "                                   lane_center_position)\n",
    "    \n",
    "    return img, out_img, out_img1, unwarped_image, laneImage, combined, copy"
   ]
  },
  {
   "cell_type": "markdown",
   "metadata": {},
   "source": [
    "#### Function calling pipeline for Video Creation"
   ]
  },
  {
   "cell_type": "code",
   "execution_count": 21,
   "metadata": {},
   "outputs": [],
   "source": [
    "def CallPipeline(image):\n",
    "    \n",
    "    smoothen = True\n",
    "    prevFrameCount = 4\n",
    "    \n",
    "    rgb_image, out_img, out_img1, unwarped_image, laneImage, combined, data_copy = Lane_pipeline(image, smoothen, prevFrameCount)\n",
    "    \n",
    "    out_image = np.zeros((720,1280,3), dtype=np.uint8)\n",
    "    out_image[0:720,0:1280,:] = cv2.resize(laneImage,(1280,720))\n",
    "    \n",
    "    out_image[20:190,960:1260,:] = cv2.resize(np.dstack((combined*255,\n",
    "                                                         combined*255,\n",
    "                                                         combined*255)),(300,170))\n",
    "    \n",
    "    out_image[210:380,960:1260,:] = cv2.resize(out_img,(300,170))\n",
    "\n",
    "    return out_image"
   ]
  },
  {
   "cell_type": "markdown",
   "metadata": {},
   "source": [
    "#### Video Processing"
   ]
  },
  {
   "cell_type": "code",
   "execution_count": 22,
   "metadata": {
    "scrolled": true
   },
   "outputs": [
    {
     "name": "stdout",
     "output_type": "stream",
     "text": [
      "Moviepy - Building video project_video_output.mp4.\n",
      "Moviepy - Writing video project_video_output.mp4\n",
      "\n"
     ]
    },
    {
     "name": "stderr",
     "output_type": "stream",
     "text": [
      "                                                                \r"
     ]
    },
    {
     "name": "stdout",
     "output_type": "stream",
     "text": [
      "Moviepy - Done !\n",
      "Moviepy - video ready project_video_output.mp4\n",
      "CPU times: user 5min 42s, sys: 47 s, total: 6min 29s\n",
      "Wall time: 4min 48s\n"
     ]
    }
   ],
   "source": [
    "video_output1 = 'project_video_output.mp4'\n",
    "video_input1 = VideoFileClip('project_video.mp4')\n",
    "\n",
    "processed_video = video_input1.fl_image(CallPipeline)\n",
    "%time processed_video.write_videofile(video_output1, audio=False)\n",
    "\n",
    "video_input1.reader.close()\n",
    "video_input1.audio.reader.close_proc()"
   ]
  }
 ],
 "metadata": {
  "kernelspec": {
   "display_name": "Python 3",
   "language": "python",
   "name": "python3"
  },
  "language_info": {
   "codemirror_mode": {
    "name": "ipython",
    "version": 3
   },
   "file_extension": ".py",
   "mimetype": "text/x-python",
   "name": "python",
   "nbconvert_exporter": "python",
   "pygments_lexer": "ipython3",
   "version": "3.8.10"
  },
  "widgets": {
   "state": {},
   "version": "1.1.2"
  }
 },
 "nbformat": 4,
 "nbformat_minor": 2
}
